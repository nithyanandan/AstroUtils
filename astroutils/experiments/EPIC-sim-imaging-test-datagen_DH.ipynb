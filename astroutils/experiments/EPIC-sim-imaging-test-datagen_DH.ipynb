{
 "cells": [
  {
   "cell_type": "code",
   "execution_count": 32,
   "metadata": {},
   "outputs": [],
   "source": [
    "import copy\n",
    "import pickle\n",
    "import numpy as NP\n",
    "# from scipy.spatial import KDTree\n",
    "import scipy as SP\n",
    "# from scipy import sparse\n",
    "from astropy.io import ascii\n",
    "from astropy import units as U\n",
    "from astropy import constants as FC\n",
    "from matplotlib import pyplot as PLT\n",
    "from astroutils import mathops as OPS\n",
    "\n",
    "from IPython.core.debugger import set_trace"
   ]
  },
  {
   "cell_type": "code",
   "execution_count": 33,
   "metadata": {},
   "outputs": [],
   "source": [
    "\n",
    "def rect2DNN_to_ix_(ycornerNN, xcornerNN, ysizeNN, xsizeNN):\n",
    "    ycornerNN = NP.array(ycornerNN)\n",
    "    xcornerNN = NP.array(xcornerNN)\n",
    "    ysizeNN = NP.array(ysizeNN)\n",
    "    xsizeNN = NP.array(xsizeNN)\n",
    "    ix_ = [NP.ix_(ycornerNN[i]+NP.arange(ysizeNN[i]), xcornerNN[i]+NP.arange(xsizeNN[i])) if xsizeNN[i]*ysizeNN[i] > 0 else NP.ix_([], []) for i in range(len(xcornerNN))]\n",
    "    return ix_\n",
    "\n",
    "def ix_to_unraveled_ind(ixlist):\n",
    "    ind_list = [(NP.repeat(ix_[0], ix_[1].size, axis=1).ravel(), NP.repeat(ix_[1], ix_[0].size, axis=0).ravel()) for ix_ in ixlist]\n",
    "    return ind_list\n",
    "\n",
    "def unraveled_to_raveled(unraveled_ind_list, shape):\n",
    "    ind_list = [NP.ravel_multi_index(ind, shape) for ind in unraveled_ind_list]\n",
    "    return ind_list\n",
    "\n",
    "def grid_to_element_mapping(raveled_ind_list, gridshape):\n",
    "    gridsize = gridshape[0]*gridshape[1]\n",
    "    gridcontains = [[] for _ in range(gridsize)]\n",
    "    for i, sublist in enumerate(raveled_ind_list):\n",
    "        for value in sublist:\n",
    "            gridcontains[value].append(i)\n",
    "    gridcounts = NP.array([len(item) for item in gridcontains])\n",
    "    return (gridcontains, gridcounts)\n",
    "\n",
    "\n",
    "\n",
    "# def rect2DNN_old(x_ngbrof, y_ngbrof, x_ngbrin, y_ngbrin, delX=1, delY=1):\n",
    "#     xofkdt = KDTree(x_ngbrof.reshape(-1,1))\n",
    "#     yofkdt = KDTree(y_ngbrof.reshape(-1,1))\n",
    "#     xinkdt = KDTree(x_ngbrin.reshape(-1,1))\n",
    "#     yinkdt = KDTree(y_ngbrin.reshape(-1,1))\n",
    "#     indxNN_list = xofkdt.query_ball_tree(xinkdt, delX, p=1)\n",
    "#     indyNN_list = yofkdt.query_ball_tree(yinkdt, delY, p=1)\n",
    "#     xsizeNN = [len(indxNN_list[i]) for i in range(x_ngbrof.size)]\n",
    "#     ysizeNN = [len(indyNN_list[i]) for i in range(y_ngbrof.size)]\n",
    "#     areaNN = NP.array(xsizeNN) * NP.array(ysizeNN)\n",
    "#     xcornerNN = [NP.min(indxNN_list[i]) if xsizeNN[i]>0 else None for i in range(x_ngbrof.size)]\n",
    "#     ycornerNN = [NP.min(indyNN_list[i]) if ysizeNN[i]>0 else None for i in range(y_ngbrof.size)]\n",
    "#     return (list(zip(ycornerNN, xcornerNN)), list(zip(ysizeNN, xsizeNN)), areaNN)\n",
    "\n",
    "def rect2DNN(x_ngbrof, y_ngbrof, x_ngbrin, y_ngbrin, delX=1, delY=1):\n",
    "    dx = x_ngbrin[1] - x_ngbrin[0]\n",
    "    dy = y_ngbrin[1] - y_ngbrin[0]\n",
    "    delX_fltind = delX / dx\n",
    "    delY_fltind = delY / dy\n",
    "    x_ngbrof_fltind = (x_ngbrof - x_ngbrin.min()) / dx\n",
    "    y_ngbrof_fltind = (y_ngbrof - y_ngbrin.min()) / dy\n",
    "    delX_rounded = NP.round(delX_fltind).astype(int)\n",
    "    delY_rounded = NP.round(delY_fltind).astype(int)\n",
    "    xsizeNN = NP.clip(delX_rounded, 1, None).astype(int)\n",
    "    ysizeNN = NP.clip(delY_rounded, 1, None).astype(int)\n",
    "    xcornerNN = NP.round(x_ngbrof_fltind).astype(int) - xsizeNN//2\n",
    "    ycornerNN = NP.round(y_ngbrof_fltind).astype(int) - ysizeNN//2\n",
    "    n_oob_xleft = NP.clip(-xcornerNN, 0, None).astype(int)\n",
    "    n_oob_xright = NP.clip(xcornerNN-(x_ngbrin.size-1), 0, None).astype(int)\n",
    "    n_oob_yleft = NP.clip(-ycornerNN, 0, None).astype(int)\n",
    "    n_oob_yright = NP.clip(ycornerNN-(y_ngbrin.size-1), 0, None).astype(int)\n",
    "    xsizeNN -= (n_oob_xleft + n_oob_xright)\n",
    "    ysizeNN -= (n_oob_yleft + n_oob_yright)\n",
    "    areaNN = NP.array(xsizeNN) * NP.array(ysizeNN)\n",
    "    xcornerNN = NP.clip(xcornerNN, 0, x_ngbrin.size-1).astype(int)\n",
    "    ycornerNN = NP.clip(ycornerNN, 0, y_ngbrin.size-1).astype(int)\n",
    "    return (xcornerNN, ycornerNN, xsizeNN, ysizeNN, areaNN)\n",
    "\n",
    "# def gaussian2D_kernel(x, y, sigma=1.0):\n",
    "#     return NP.exp(-(x**2 + y**2) / (2 * sigma**2))\n",
    "\n",
    "# def rect2D_kernel(x, y, delX=1, delY=1):\n",
    "#     kernel = NP.zeros(x.shape, dtype=float)\n",
    "#     select_ind = NP.where(NP.logical_and(NP.abs(x)<=delX, NP.abs(y)<=delY))\n",
    "#     kernel[select_ind] = 1.0\n",
    "#     return kernel"
   ]
  },
  {
   "cell_type": "code",
   "execution_count": 34,
   "metadata": {},
   "outputs": [],
   "source": [
    "def grid(rangelist, pad=None, spacing=None, pow2=True, verbose=True):\n",
    "\n",
    "    \"\"\"\n",
    "    -----------------------------------------------------------------------------\n",
    "    Produce a multi-dimensional grid.\n",
    "    \n",
    "    Inputs:\n",
    "    rangelist [list of tuples] Each tuple is made of two elements, the min and\n",
    "              max with min < max. One tuple for each axis.\n",
    "             \n",
    "    pad       [Optional. Scalar or list] The padding (in same units as range) to\n",
    "              be applied along the axes. Default=None implies no padding.\n",
    "              \n",
    "    spacing   [Optional. Scalar or list] The spacing for the grid along each of\n",
    "              the axes. If not supplied, a default of sqrt(max-min) is used. If a\n",
    "              scalar is supplied, it applies for all axes. A list applies for\n",
    "              each of the axes.\n",
    "              \n",
    "    pow2      [Optional, default=True] If set, the grid produced is a power of 2\n",
    "              in all axes, which is useful for FFT.\n",
    "              \n",
    "    verbose   [Default=True]\n",
    "\n",
    "    Outputs:\n",
    "\n",
    "    tupleout  [List of tuples] A 4-element tuple for each axis. The elements in\n",
    "              each tuple are min, max, lengths, and spacing (which could have\n",
    "              been modified relative to input). The precise grid points can be\n",
    "              generated by using numpy's linspace using min, max and lengths.\n",
    "    -----------------------------------------------------------------------------\n",
    "    \"\"\"\n",
    "\n",
    "    for item in rangelist:\n",
    "        if item[0] >= item[1]:\n",
    "            raise ValueError('Data ranges provided not compatible with min < max. Exiting from grid().')\n",
    "\n",
    "    if pad is None:\n",
    "        pad = NP.zeros(len(rangelist))\n",
    "    elif isinstance(pad, (int,float)):\n",
    "        pad = [pad]\n",
    "    elif isinstance(pad, NP.ndarray):\n",
    "        pad = pad.tolist()\n",
    "    elif not isinstance(pad, list):\n",
    "        raise TypeError('pad must be set to None, scalar, list or numpy array')\n",
    "        \n",
    "    if len(pad) == 1:\n",
    "        pad = [pad] * len(rangelist)\n",
    "    elif len(pad) > len(rangelist):\n",
    "        pad = NP.asarray(pad[:len(rangelist)])\n",
    "    elif (len(pad) > 1) and (len(pad) < len(rangelist)):\n",
    "        if verbose is True:\n",
    "            print('Insufficient paddings provided compared to the number of data ranges.')\n",
    "            print('Assuming the remaining paddings to be zero.')\n",
    "        pad += [0.0 for ranges in rangelist[len(pad):]]\n",
    "    pad = NP.asarray(pad).flatten()\n",
    "    pad.clip(min(NP.abs(pad))) # Remove any negative values for pad\n",
    "\n",
    "    if spacing is None:\n",
    "        if verbose is True:\n",
    "            print('No spacing provided. Setting defaults to sqrt(max-min)')\n",
    "            print('Final spacings could be different from defaults assumed.')\n",
    "        spacing = [NP.sqrt(rangelist[i][1]-rangelist[i][0]+2*pad[i]) for i in range(len(rangelist))]\n",
    "    elif isinstance(spacing, (int, float)):\n",
    "        if verbose is True:\n",
    "            print('Scalar value for spacing provided. Assuming spacing is identical along all axes.')\n",
    "        spacing = [spacing] * len(rangelist)\n",
    "    elif len(spacing) > len(rangelist):\n",
    "        if verbose is True:\n",
    "            print('Too many values of spacing provided. Ignoring values for indices beyond the length of data ranges.')\n",
    "        spacing = NP.asarray(spacing[:len(rangelist)])\n",
    "    elif (len(spacing) > 1) and (len(spacing) < len(rangelist)):\n",
    "        if verbose is True:\n",
    "            print('Insufficient spacings provided compared to the number of data ranges.')\n",
    "            print('Assuming the remaining spacings to be default spacing.')\n",
    "            print('Final spacings could be different from defaults assumed.')\n",
    "        # spacing += [NP.sqrt(ranges[1]-ranges[0]) for ranges in rangelist[len(spacing):]]\n",
    "        spacing += [NP.sqrt(rangelist[i][1]-rangelist[i][0]+2*pad[i]) for i in range(len(spacing),len(rangelist))]\n",
    "    spacing = NP.asarray(spacing).flatten()\n",
    "    spacing.clip(min(NP.abs(spacing)))\n",
    "\n",
    "    rangelist = NP.asarray(rangelist)\n",
    "    lengths = NP.ceil((rangelist[:,1]-rangelist[:,0]+2*pad)/spacing)+1\n",
    "    lengths = lengths.astype(int)\n",
    "\n",
    "    for i in range(len(lengths)): \n",
    "        if (lengths[i] % 2) == 0: lengths[i] += 1\n",
    "        # make it odd number of bin edges enclsoing first\n",
    "        # and last intervals so that the mid-point is one\n",
    "        # of the bin edges.\n",
    "\n",
    "    if pow2 is True:\n",
    "        lengths = 2**NP.ceil(NP.log2(lengths))\n",
    "        lengths = lengths.astype(int)\n",
    "        newspacing = (rangelist[:,1]-rangelist[:,0]+2*pad)/(lengths-2)\n",
    "        offsets = rangelist[:,0]-pad+(lengths-2)*newspacing - (rangelist[:,1]+pad)\n",
    "        tupleout = list(zip(rangelist[:,0]-pad-0.5*offsets-newspacing, rangelist[:,1]+pad+0.5*offsets, lengths, newspacing)) # converts numpy arrays into a list of tuples\n",
    "    else:\n",
    "        offsets = rangelist[:,0]-pad+(lengths-1)*spacing - (rangelist[:,1]+pad)\n",
    "        tupleout = list(zip(rangelist[:,0]-pad-0.5*offsets, rangelist[:,1]+pad+0.5*offsets, lengths, spacing)) # converts numpy arrays into a list of tuples\n",
    "    \n",
    "    return tupleout\n"
   ]
  },
  {
   "cell_type": "code",
   "execution_count": 35,
   "metadata": {},
   "outputs": [],
   "source": [
    "def gen_ant_grid_wts_cube(vusize, raveled_ind_lol, ant_grid_wts_lol):\n",
    "    nchan = len(raveled_ind_lol)\n",
    "    npol = 2\n",
    "    wtsgrid = NP.zeros((nchan,npol,npol,vusize), dtype=complex) # (nchan,npol,npol,nvusize)\n",
    "    grid_to_antenna_mapping = NP.zeros((nchan, vusize), dtype=int) # (nchan, nvusize)\n",
    "    histgrid = NP.zeros((nchan, vusize), dtype=int) # (nchan, nvusize)\n",
    "    for iwl in range(nchan):\n",
    "        for antind, (ravind, awts) in enumerate(zip(raveled_ind_lol[iwl], ant_grid_wts_lol[iwl])):\n",
    "            wts_ixind = NP.ix_([iwl], NP.arange(npol), NP.arange(npol), ravind)\n",
    "            g2a_ixind = NP.ix_([iwl], ravind)\n",
    "            wtsgrid[wts_ixind] += awts[NP.newaxis,...] # (1,npol,npol,npix)\n",
    "            grid_to_antenna_mapping[g2a_ixind] = antind + 1 # (1,npix)\n",
    "            histgrid[g2a_ixind] += 1\n",
    "    return (wtsgrid, grid_to_antenna_mapping, histgrid)\n",
    "\n",
    "def gen_grid_Ef_cube(vusize, raveled_ind_lol, grid_Ef_chan_list):\n",
    "    nchan = len(raveled_ind_lol)\n",
    "    nruns = grid_Ef_chan_list[0].shape[0]\n",
    "    nant = len(raveled_ind_lol[0])\n",
    "    npol = 2\n",
    "    outunit = grid_Ef_chan_list[0].unit\n",
    "    outarr = NP.zeros((nruns,nchan,npol,vusize), dtype=complex) * outunit # (nruns, nchan, npol, nvusize)\n",
    "    for iwl in range(nchan):\n",
    "        for ii,ravind in enumerate(raveled_ind_lol[iwl]):\n",
    "            ixind = NP.ix_(NP.arange(nruns), [iwl], NP.arange(npol), ravind)\n",
    "            outarr[ixind] += grid_Ef_chan_list[iwl][:,ii,:,:][:,NP.newaxis,...] # (nruns,1,npol,npix)\n",
    "    return outarr\n",
    "\n",
    "def gen_image(inparr, fftshape=None, fftaxes=(-2,-1), polaxis=-4, freqaxis=-3, bwsyn=False):\n",
    "    polaxis = (polaxis+inparr.ndim) % inparr.ndim\n",
    "    freqaxis = (freqaxis+inparr.ndim) % inparr.ndim\n",
    "    outarr = SP.fft.fft2(inparr, s=fftshape, axes=fftaxes)\n",
    "    outarr = NP.expand_dims(outarr, axis=polaxis) * NP.expand_dims(outarr, axis=polaxis+1).conj()\n",
    "    if bwsyn:\n",
    "        outarr = NP.sum(outarr, axis=freqaxis, keepdims=True)\n",
    "    outarr = SP.fft.fftshift(outarr, axes=fftaxes)\n",
    "    return outarr"
   ]
  },
  {
   "cell_type": "code",
   "execution_count": 36,
   "metadata": {},
   "outputs": [],
   "source": [
    "def stochastic_E_spectrum(freq_center, nchan, channel_width, flux_ref=1.0,\n",
    "                          freq_ref=None, spectral_index=0.0, skypos=None, \n",
    "                          ref_point=None, antpos=[0.0,0.0,0.0], nruns=1, \n",
    "                          voltage_pattern=None, verbose=True):\n",
    "\n",
    "    \"\"\"\n",
    "    ----------------------------------------------------------------------------\n",
    "    Compute a stochastic electric field spectrum obtained from sources with \n",
    "    given flux densities and spectral indices at given positions at specified \n",
    "    antenna locations. \n",
    "\n",
    "    Inputs:\n",
    "\n",
    "    freq_center      [float] Center frequency in Hz. Center frequency must be\n",
    "                     greater than half the bandwidth.\n",
    "\n",
    "    nchan            [integer] Number of frequency channels in spectrum\n",
    "\n",
    "    channel_width    [float] Channel width \n",
    "\n",
    "    Keyword Inputs:\n",
    "\n",
    "    flux_ref         [list or numpy array of float] Flux densities of sources\n",
    "                     at the respective reference frequencies. Units are \n",
    "                     arbitrary. Values have to be positive. Default = 1.0. \n",
    "\n",
    "    freq_ref         [list or numpy array of float] Reference frequency (Hz). \n",
    "                     If not provided, default is set to center frequency given\n",
    "                     in freq_center for each of the sources. If a single value \n",
    "                     is provided, it will be applicable to all the sources. If a \n",
    "                     list or numpy array is provided, it should be of size equal\n",
    "                     to that of flux_ref. \n",
    "\n",
    "    spectral_index   [list or numpy array of float] Spectral Index \n",
    "                     (flux ~ freq ** alpha). If not provided, default is set to \n",
    "                     zero, a flat spectrum, for each of the sources. If a single \n",
    "                     value is provided, it will be applicable to all the sources. \n",
    "                     If a list or numpy array is provided, it should be of size \n",
    "                     equal to that of flux_ref. \n",
    "\n",
    "    skypos           [list, tuple, list of lists, list of tuples, numpy array]\n",
    "                     Sky positions of sources provided in direction cosine\n",
    "                     coordinates aligned with local ENU axes. It should be a\n",
    "                     3-element list, a 3-element tuple, a list of 3-element\n",
    "                     lists, list of 3-element tuples, or a 3-column numpy array.\n",
    "                     Each 3-element entity corresponds to a source position. \n",
    "                     Number of 3-element entities should equal the number of \n",
    "                     sources as specified by the size of flux_ref. Rules of \n",
    "                     direction cosine quantities should be followed. If only \n",
    "                     one  source is specified by flux_ref and skypos is not\n",
    "                     specified, skypos defaults to the zenith (0.0, 0.0, 1.0)\n",
    "\n",
    "    ref_point        [3-element list, tuple, or numpy vector] Point on sky used\n",
    "                     as a phase reference. Same units as skypos (which is\n",
    "                     direction cosines and must satisfy rules of direction\n",
    "                     cosines). If None provided, it defaults to zenith\n",
    "                     (0.0, 0.0, 1.0)\n",
    "\n",
    "    antpos           [list, tuple, list of lists, list of tuples, numpy array]\n",
    "                     Antenna positions provided along local ENU axes. \n",
    "                     It should be a 3-element list, a 3-element tuple, a list of \n",
    "                     3-element lists, list of 3-element tuples, or a 3-column \n",
    "                     numpy array. Each 3-element entity corresponds to an\n",
    "                     antenna position. If not specified, antpos by default is \n",
    "                     assigned the origin (0.0, 0.0, 0.0).\n",
    "\n",
    "    voltage_pattern  [numpy array] Voltage pattern for each frequency channel\n",
    "                     at each source location for each antenna. It must be of\n",
    "                     shape nsrc x nchan x nant. If any of these dimensions are\n",
    "                     1, it is assumed to be identical along that direction. \n",
    "                     If specified as None (default), it is assumed to be unity\n",
    "                     and identical across antennas, sky locations and frequency\n",
    "                     channels. \n",
    "\n",
    "    verbose:         [boolean] If set to True, prints progress and diagnostic\n",
    "                     messages. Default = True.\n",
    "    \n",
    "    Output:\n",
    "\n",
    "    dictout          [dictionary] Consists of the following tags and info:\n",
    "                     'f'        [numpy array] frequencies of the channels in the \n",
    "                                spectrum of size nchan\n",
    "                     'Ef'       [complex numpy array] (nruns, nant, nchan, npol)  \n",
    "                                numpy array consisting of complex stochastic \n",
    "                                electric field spectra. nchan is the number of  \n",
    "                                channels in the spectrum and nant is the number \n",
    "                                of antennas.\n",
    "                     'antpos'   [numpy array] 3-column array of antenna\n",
    "                                positions (same as the input argument antpos)\n",
    "\n",
    "    ----------------------------------------------------------------------------\n",
    "    \"\"\"\n",
    "\n",
    "    nsrc = flux_ref.size\n",
    "    nant = antpos.shape[0]\n",
    "    npol = 2\n",
    "    if voltage_pattern is None:\n",
    "        voltage_pattern = NP.diag(NP.ones(2))[NP.newaxis,NP.newaxis,NP.newaxis,NP.newaxis,...]\n",
    "    vb_shape = voltage_pattern.shape\n",
    "\n",
    "    freqs = freq_center + channel_width * (NP.arange(nchan) - nchan//2)\n",
    "    if spectral_index is None:\n",
    "        spectral_index = NP.zeros((1,1,1,1,1))\n",
    "    alpha = spectral_index.reshape(-1,1,1,1,1)\n",
    "    freqs = freqs.reshape(1,1,1,-1,1)\n",
    "    freq_ratio = freqs / freq_ref\n",
    "    flux_spectra = flux_ref.reshape(nsrc,1,1,1,1) * (freq_ratio ** alpha)\n",
    "    sigmas = NP.sqrt(flux_spectra)\n",
    "    Ef_amp = sigmas/NP.sqrt(2) * (NP.random.normal(loc=0.0, scale=1.0, size=(nsrc,nruns,1,nchan,npol)) + 1j * NP.random.normal(loc=0.0, scale=1.0, size=(nsrc,nruns,1,nchan,npol)))\n",
    "    Ef_phase = 1.0\n",
    "    Ef_sky = Ef_amp * Ef_phase\n",
    "\n",
    "    skypos_dot_antpos = NP.dot(skypos-ref_point, antpos.T) # (nsrc, nant)\n",
    "    k_dot_r_phase = 2.0 * NP.pi * freqs / FC.c * skypos_dot_antpos[:,NP.newaxis,:,NP.newaxis,NP.newaxis] # (nsrc, nant, nchan)\n",
    "    Ef_ant = NP.einsum('i...mn,i...n->...m', voltage_pattern, Ef_sky * NP.exp(1j * k_dot_r_phase)) # (nruns, nant, nchan, npol)\n",
    "    if verbose:\n",
    "        print('Performed linear superposition of electric fields from source(s).')\n",
    "    dictout = {}\n",
    "    dictout['f'] = freqs.ravel()\n",
    "    dictout['Ef'] = Ef_ant # (nruns, nant, nchan, npol)\n",
    "    dictout['antpos'] = antpos\n",
    "\n",
    "    if verbose:\n",
    "        print('stochastic_E_spectrum() executed successfully.\\n')\n",
    "\n",
    "    return dictout\n"
   ]
  },
  {
   "cell_type": "code",
   "execution_count": 37,
   "metadata": {},
   "outputs": [],
   "source": [
    "def array_element_grouping(xcorner, ycorner, nblocks=8):\n",
    "\n",
    "    nelements, nchan = xcorner.shape\n",
    "    nelements_per_block = nelements // nblocks\n",
    "    nelements_per_group = nblocks\n",
    "    ngroups_per_frame = nelements // nelements_per_group\n",
    "    array_grouping = NP.zeros((nchan,ngroups_per_frame,nelements_per_group), dtype=NP.int32)\n",
    "\n",
    "    for chan in range(nchan):\n",
    "        # Sort by y, then by x coordinate\n",
    "        sorted_y_indexes = NP.argsort(ycorner[:,chan] * 1000 + xcorner[:,chan])\n",
    "        element_by_block = NP.zeros((nblocks, nelements_per_block))\n",
    "        element_by_block_x = NP.zeros((nblocks, nelements_per_block))\n",
    "        element_by_block_sorted = []\n",
    "        for block in range(nblocks):\n",
    "            for ant in range(nelements_per_block):\n",
    "                # element number in each of the blocks\n",
    "                element_by_block[block,ant] = sorted_y_indexes[block*nelements_per_block + ant]\n",
    "                # x coordinate of the element in each block\n",
    "                element_by_block_x[block,ant] = xcorner[sorted_y_indexes[block*nelements_per_block + ant],chan]\n",
    "            # sort element_by_block according to element_by_block_x, \n",
    "            # so that we have elements in the order they will be used in each block\n",
    "            x_sort_order = NP.argsort(element_by_block_x[block,:])\n",
    "            element_by_block_sorted.append(list(element_by_block[block,x_sort_order]))\n",
    "\n",
    "        # Create an array with dimensions (Ng=nelements_per_block groups)x(Na/g=nblocks elements per group) which contains the element numbers.\n",
    "        for group in range(ngroups_per_frame):\n",
    "            # Make Ng=nelements_per_block groups, with Na/g=nblocks antennas in each group. \n",
    "            # The Na/g antennas have one drawn from each block of nelements_per_block antennas\n",
    "            array_grouping[chan,group,0] = int(element_by_block_sorted[0][0])\n",
    "            element_by_block_sorted[0].remove(array_grouping[chan,group,0])\n",
    "            for block in range(1,nelements_per_group):\n",
    "                # Make sure the element doesn't have the same y coordinate as the element selected in the previous block\n",
    "                group_i = 0\n",
    "                for c in range(nchan):\n",
    "                    while (ycorner[array_grouping[chan,group,block-1],c] == ycorner[int(element_by_block_sorted[block][group_i]),c]):\n",
    "                        group_i += 1\n",
    "                array_grouping[chan,group,block] = int(element_by_block_sorted[block][group_i])\n",
    "                element_by_block_sorted[block].remove(array_grouping[chan,group,block])\n",
    "\n",
    "    return array_grouping"
   ]
  },
  {
   "cell_type": "code",
   "execution_count": 38,
   "metadata": {},
   "outputs": [],
   "source": [
    "def load_FIFO(array_element_groups, elements_to_grid_mapping_unraveled_lol, xcorner, ycorner, nFIFO=64):\n",
    "    nchan, ngroups_per_word, nelements_per_group = array_element_groups.shape\n",
    "    output = -1 + NP.zeros((nchan, ngroups_per_word, nFIFO, 2), dtype=int)\n",
    "    ncols = nFIFO\n",
    "    for chan in range(nchan):\n",
    "        for group_ind in range(ngroups_per_word):\n",
    "            elements_in_group = array_element_groups[chan,group_ind,:]\n",
    "            rows_of_elements = []\n",
    "            elements_in_FIFOs = []\n",
    "            for element in elements_in_group:\n",
    "                # rows, cols = NP.unravel_index(elements_to_grid_mapping_unraveled_lol[chan][element], shape=(nFIFO,nFIFO))\n",
    "                rows, cols = elements_to_grid_mapping_unraveled_lol[chan][element]\n",
    "                unique_rows = NP.unique(rows)\n",
    "                rows_of_elements.append(unique_rows)\n",
    "                elements_in_FIFOs.append(element+NP.zeros(unique_rows.size, dtype=int))\n",
    "            rows_of_elements = NP.array(rows_of_elements, dtype=int).ravel()\n",
    "            elements_in_FIFOs = NP.array(elements_in_FIFOs, dtype=int).ravel()\n",
    "            bincount, binedges, binnum, ri = OPS.binned_statistic(NP.array(rows_of_elements), statistic='count', bins=list(range(nFIFO+1)))\n",
    "            bincount = bincount.astype(int)\n",
    "            for iFIFO in range(nFIFO):\n",
    "                if bincount[iFIFO] > 0:\n",
    "                    ind = ri[ri[iFIFO]:ri[iFIFO+1]]\n",
    "                    elements_in_FIFO_i = elements_in_FIFOs[ind]\n",
    "                    if bincount[iFIFO] == 1:\n",
    "                        output[chan,group_ind,iFIFO,0] = elements_in_FIFO_i[0]\n",
    "                    elif bincount[iFIFO] == 2:\n",
    "                        ind_sorted_xcorner = NP.argsort(xcorner[elements_in_FIFO_i,chan])\n",
    "                        output[chan,group_ind,iFIFO,:] = elements_in_FIFO_i[ind_sorted_xcorner]\n",
    "                    else:\n",
    "                        raise ValueError('More than two elements need to be stored in two clock cycles. FIFO conflict!')\n",
    "    return output.astype(int)"
   ]
  },
  {
   "cell_type": "code",
   "execution_count": 39,
   "metadata": {},
   "outputs": [],
   "source": [
    "# def nearest_nghbrs(input_locations, grid_x, grid_y, distUL, dist_norm=2.0, workers=1):\n",
    "#     # Create a grid of 2D x and y locations\n",
    "#     grid_points = NP.column_stack((grid_x.flatten(), grid_y.flatten()))\n",
    "\n",
    "#     # Build KDTree using grid locations\n",
    "#     kdt = KDTree(grid_points)\n",
    "#     list_indNN = kdt.query_ball_point(input_locations, distUL, p=dist_norm, \n",
    "#                                       eps=0, workers=1, return_sorted=None, \n",
    "#                                       return_length=False)\n",
    "#     return list_indNN\n",
    "\n",
    "# def gridder(input_locations, input_values, grid_x, grid_y, kernel_func, dist_norm=2.0, workers=1):\n",
    "#     list_indNN = nearest_nghbrs(input_locations, grid_x, grid_y, dist_norm=dist_norm, workers=workers)\n",
    "#     result_grid = NP.zeros_like(grid_x, dtype=float)\n",
    "#     for input_loc, input_val in zip(input_locations, input_values):\n",
    "#         # Find nearest grid locations using KDTree\n",
    "#         if distance_metric == 'l2':\n",
    "#             _, nearest_indices = kdt.query(input_loc, k=4)  # You can adjust 'k' based on your requirements\n",
    "#         elif distance_metric == 'manhattan':\n",
    "#             _, nearest_indices = kdt.query(input_loc, k=4, p=1)\n",
    "#         else:\n",
    "#             raise ValueError(\"Invalid distance metric. Use 'l2' or 'manhattan'.\")\n",
    "\n",
    "#         # Calculate distances and kernel weights\n",
    "#         distances = NP.linalg.norm(grid_points[nearest_indices] - input_loc, axis=1)\n",
    "#         weights = kernel_func(*NP.transpose(distances))\n",
    "\n",
    "#         # Normalize weights\n",
    "#         weights /= NP.sum(weights)\n",
    "\n",
    "#         # Extrapolate input value onto grid locations\n",
    "#         result_grid += NP.sum(weights[:, NP.newaxis, NP.newaxis] * input_val, axis=0).reshape(result_grid.shape)\n",
    "\n",
    "#     return result_grid"
   ]
  },
  {
   "cell_type": "code",
   "execution_count": 46,
   "metadata": {},
   "outputs": [],
   "source": [
    "fc = 100*U.MHz\n",
    "df = 100 * U.kHz\n",
    "nchan = 1\n",
    "duration = 1000*U.ms\n",
    "bw = nchan * df\n",
    "freqs = fc + df * (NP.arange(nchan) - nchan//2)\n",
    "# freqs = NP.array(freqs).reshape(-1)\n",
    "wl = (FC.c / freqs).to(U.m)\n",
    "delT = (1/df).to(U.s)\n",
    "dt = (1/bw).to(U.s)\n",
    "nruns = NP.round((duration/delT).decompose()).astype(int)"
   ]
  },
  {
   "cell_type": "code",
   "execution_count": 47,
   "metadata": {},
   "outputs": [
    {
     "name": "stdout",
     "output_type": "stream",
     "text": [
      "1000.0 ms\n",
      "1e-05 s\n",
      "100000\n",
      "(1,)\n"
     ]
    }
   ],
   "source": [
    "print(duration)\n",
    "print(delT)\n",
    "print(nruns)\n",
    "print(freqs.shape)"
   ]
  },
  {
   "cell_type": "code",
   "execution_count": 48,
   "metadata": {},
   "outputs": [],
   "source": [
    "datadir = '/mnt/data/users/thy009/projects/multi-scale-imaging-architectures/data/'\n",
    "# datadir = '/home/hum089/projects/epic/jupyter/data/'\n",
    "# aavs_antlocs_file = 'AAVS2_loc_italia_190429.txt'\n",
    "aavs_antlocs_file = 'AAVS2_loc_italia_190429_modified.txt'\n",
    "anttab = ascii.read(datadir+aavs_antlocs_file, names=['id', 'x', 'y', 'z'], format='no_header')\n",
    "anttab['id'] = anttab['id'].astype(int)\n",
    "anttab['x'] = anttab['x'] * U.m\n",
    "anttab['y'] = anttab['y'] * U.m\n",
    "anttab['z'] = anttab['z'] * U.m\n",
    "nants = anttab['id'].size\n",
    "antx = anttab['x']\n",
    "anty = anttab['y']\n",
    "antz = anttab['z']\n",
    "antx = antx - NP.mean(antx) * anttab['x'].unit\n",
    "anty = anty - NP.mean(anty) * anttab['y'].unit\n",
    "antz = antz - NP.mean(antz) * anttab['z'].unit"
   ]
  },
  {
   "cell_type": "code",
   "execution_count": 49,
   "metadata": {},
   "outputs": [
    {
     "name": "stdout",
     "output_type": "stream",
     "text": [
      " id   x      y    z  \n",
      "      m      m    m  \n",
      "--- ------ ----- ----\n",
      "  1  17.47 -6.81 15.0\n",
      "  2   17.7 -3.94 16.0\n",
      "  3  18.89 -1.21 16.0\n",
      "  4  18.11  1.02 16.0\n",
      "  5  17.92  3.28 16.0\n",
      "  6  15.75  8.85  5.0\n",
      "  7  15.85  6.68  5.0\n",
      "  8  16.94  5.18  5.0\n",
      "  9  15.17 -0.69 16.0\n",
      " 10  16.19 -1.99 16.0\n",
      "...    ...   ...  ...\n",
      "247 -16.08  4.29  9.0\n",
      "248 -17.09  5.57  9.0\n",
      "249  -15.4  6.96  9.0\n",
      "250 -16.04 10.18  9.0\n",
      "251 -17.32  7.53  9.0\n",
      "252 -18.67  3.36  9.0\n",
      "253 -18.51  1.41 10.0\n",
      "254 -18.26 -0.33 10.0\n",
      "255 -17.35 -3.38 10.0\n",
      "256  -17.6 -6.37 11.0\n",
      "Length = 256 rows\n"
     ]
    }
   ],
   "source": [
    "anttab.pprint()"
   ]
  },
  {
   "cell_type": "code",
   "execution_count": 50,
   "metadata": {},
   "outputs": [
    {
     "name": "stdout",
     "output_type": "stream",
     "text": [
      "-6.113604432303631 -6.282275807785666 -2.5017307139861407\n",
      "6.415062983338961 6.283083658328723 2.5017307139861407\n"
     ]
    }
   ],
   "source": [
    "au = antx.reshape(-1,1) / wl.reshape(1,-1)\n",
    "av = anty.reshape(-1,1) / wl.reshape(1,-1)\n",
    "aw = antz.reshape(-1,1) / wl.reshape(1,-1)\n",
    "au_min = au.min()\n",
    "av_min = av.min()\n",
    "aw_min = aw.min()\n",
    "au_max = au.max()\n",
    "av_max = av.max()\n",
    "aw_max = aw.max()\n",
    "print(au_min, av_min, aw_min)\n",
    "print(au_max, av_max, aw_max)"
   ]
  },
  {
   "cell_type": "code",
   "execution_count": 51,
   "metadata": {},
   "outputs": [
    {
     "name": "stdout",
     "output_type": "stream",
     "text": [
      "1.0 16.0\n",
      "-0.34187499999999993\n",
      "-0.08621093750000006\n",
      "8.5\n",
      "(256,)\n"
     ]
    }
   ],
   "source": [
    "print(anttab['z'].min(), anttab['z'].max())\n",
    "print(NP.mean(anttab['x']))\n",
    "print(NP.mean(anttab['y']))\n",
    "print(NP.mean(anttab['z']))\n",
    "print(antx.shape)"
   ]
  },
  {
   "cell_type": "code",
   "execution_count": 52,
   "metadata": {},
   "outputs": [
    {
     "name": "stdout",
     "output_type": "stream",
     "text": [
      "-6.113604432303631 6.415062983338961\n",
      "-6.282275807785666 6.283083658328723\n"
     ]
    }
   ],
   "source": [
    "print(au.min(), au.max())\n",
    "print(av.min(), av.max())"
   ]
  },
  {
   "cell_type": "code",
   "execution_count": 53,
   "metadata": {},
   "outputs": [
    {
     "name": "stdout",
     "output_type": "stream",
     "text": [
      "(64, 64)\n"
     ]
    }
   ],
   "source": [
    "sizex_ant = 1.64 * U.m\n",
    "sizey_ant = 1.64 * U.m \n",
    "ant_sampling_factor = 2.0\n",
    "upad = sizex_ant / wl.min()\n",
    "vpad = sizey_ant / wl.min()\n",
    "du_ant = sizex_ant / (ant_sampling_factor * wl.max())\n",
    "dv_ant = sizey_ant / (ant_sampling_factor * wl.max())\n",
    "ant_uvec_info, ant_vvec_info = grid([(au_min,au_max), (av_min,av_max)], pad=[upad, vpad], spacing=[du_ant, dv_ant], pow2=True)\n",
    "ant_uvec = NP.linspace(ant_uvec_info[0], ant_uvec_info[1], num=ant_uvec_info[2], endpoint=True)\n",
    "ant_vvec = NP.linspace(ant_vvec_info[0], ant_vvec_info[1], num=ant_vvec_info[2], endpoint=True)\n",
    "ant_ugrid, ant_vgrid = NP.meshgrid(ant_uvec, ant_vvec)\n",
    "print(ant_ugrid.shape)\n"
   ]
  },
  {
   "cell_type": "code",
   "execution_count": 54,
   "metadata": {},
   "outputs": [
    {
     "name": "stdout",
     "output_type": "stream",
     "text": [
      "Performed linear superposition of electric fields from source(s).\n",
      "stochastic_E_spectrum() executed successfully.\n",
      "\n"
     ]
    }
   ],
   "source": [
    "nsrc = 4\n",
    "flux_ref = (1.0+NP.arange(nsrc))*U.Jy\n",
    "skypos = NP.array([[0.0, 0.0, 1.0], \n",
    "                   [0.5, 0.0, NP.sqrt(3.0)/2],\n",
    "                   [0.0, -0.5, NP.sqrt(3.0)/2],\n",
    "                   [-0.5, 0.5, NP.sqrt(1.0)/2],\n",
    "                   ])\n",
    "ref_point= NP.array([[0.0, 0.0, 1.0]])\n",
    "antpos = NP.hstack([antx.reshape(-1,1), anty.reshape(-1,1), antz.reshape(-1,1)])\n",
    "ant_E_dynspec = stochastic_E_spectrum(fc, nchan, df, flux_ref, freq_ref=fc, \n",
    "                                      spectral_index=None, skypos=skypos, \n",
    "                                      ref_point=ref_point, antpos=antpos, \n",
    "                                      nruns=nruns, voltage_pattern=None)"
   ]
  },
  {
   "cell_type": "code",
   "execution_count": 55,
   "metadata": {},
   "outputs": [
    {
     "name": "stdout",
     "output_type": "stream",
     "text": [
      "(100000, 256, 1, 2)\n"
     ]
    }
   ],
   "source": [
    "print(ant_E_dynspec['Ef'].shape)"
   ]
  },
  {
   "cell_type": "code",
   "execution_count": 56,
   "metadata": {},
   "outputs": [],
   "source": [
    "ix_list = []\n",
    "unraveled_ind_lol = []\n",
    "raveled_ind_lol = []\n",
    "ant_grid_wts_lol = []\n",
    "grid_to_ant_mapping_lol = []\n",
    "delX = (NP.zeros((nants,1))+sizex_ant/wl.reshape(1,-1)).ravel()\n",
    "delY = (NP.zeros((nants,1))+sizey_ant/wl.reshape(1,-1)).ravel()\n",
    "xcornerNN, ycornerNN, xsizeNN, ysizeNN, areaNN = rect2DNN(au.ravel(), av.ravel(), ant_uvec, ant_vvec, delX=delX, delY=delY)\n",
    "xcornerNN = xcornerNN.reshape(nants, -1)\n",
    "ycornerNN = ycornerNN.reshape(nants, -1)\n",
    "xsizeNN = xsizeNN.reshape(nants, -1)\n",
    "ysizeNN = ysizeNN.reshape(nants, -1)\n",
    "areaNN = areaNN.reshape(nants, -1)\n",
    "grid_histograms = []\n",
    "for iwl in range(wl.size):    \n",
    "    ix_ = rect2DNN_to_ix_(ycornerNN[:,iwl], xcornerNN[:,iwl], ysizeNN[:,iwl], xsizeNN[:,iwl])\n",
    "    ix_list += [copy.deepcopy(ix_)]\n",
    "    unraveled_ind = ix_to_unraveled_ind(ix_)\n",
    "    unraveled_ind_lol += [copy.deepcopy(unraveled_ind)]\n",
    "    raveled_ind = unraveled_to_raveled(unraveled_ind, ant_ugrid.shape)    \n",
    "    raveled_ind_lol += [copy.deepcopy(raveled_ind)]\n",
    "    ant_grid_wts = [NP.diag(NP.ones(2))[...,NP.newaxis]*NP.ones((1,1,len(item))) for item in raveled_ind]\n",
    "    ant_grid_wts_lol += [copy.deepcopy(ant_grid_wts)]\n",
    "    gridcontains, gridcounts = grid_to_element_mapping(raveled_ind, ant_ugrid.shape)\n",
    "    grid_to_ant_mapping_lol += [copy.deepcopy(gridcontains)]\n",
    "    grid_histograms += [copy.deepcopy(gridcounts)]\n",
    "grid_histograms = NP.array(grid_histograms)\n"
   ]
  },
  {
   "cell_type": "code",
   "execution_count": 57,
   "metadata": {},
   "outputs": [
    {
     "data": {
      "text/plain": [
       "<matplotlib.image.AxesImage at 0x7f42549fab40>"
      ]
     },
     "execution_count": 57,
     "metadata": {},
     "output_type": "execute_result"
    },
    {
     "data": {
      "image/png": "[encoded data removed]",
      "text/plain": [
       "<Figure size 640x480 with 1 Axes>"
      ]
     },
     "metadata": {},
     "output_type": "display_data"
    }
   ],
   "source": [
    "overlap_locations = NP.where(grid_histograms > 1)\n",
    "for chan,overlap in zip(overlap_locations[0],overlap_locations[1]):\n",
    "    print(chan, overlap)\n",
    "    print(grid_to_ant_mapping_lol[chan][overlap])\n",
    "    # print(grid_to_ant_mapping_lol[overlap])\n",
    "# overlaps = NP.where(grid_histograms[select_chan]>1)[0]\n",
    "# overlaps = NP.ravel_multi_index(overlaps, ant_ugrid.shape)\n",
    "\n",
    "select_chan = 0\n",
    "fig = PLT.figure()\n",
    "ax = fig.add_subplot(111)\n",
    "# ax.imshow(grid_histograms[select_chan].reshape(ant_ugrid.shape), extent=[ant_uvec.min(), ant_uvec.max(), ant_vvec.min(), ant_vvec.max()], interpolation='none')\n",
    "# ax.imshow(grid_histograms[select_chan].reshape(ant_ugrid.shape)[::-1,:], extent=[antx.value.min(), antx.value.max(), anty.value.min(), anty.value.max()], interpolation='none')\n",
    "ax.imshow(grid_histograms[select_chan].reshape(ant_ugrid.shape), origin='lower', extent=[ant_uvec.min()*wl.value.max(), ant_uvec.max()*wl.value.max(), ant_vvec.min()*wl.value.max(), ant_vvec.max()*wl.value.max()], interpolation='none')\n",
    "# ax.imshow(grid_histograms[select_chan].reshape(ant_ugrid.shape), interpolation='none')\n",
    "# for ia in range(nants):\n",
    "#     ax.text(au[ia,select_chan], av[ia,select_chan], '{:0d}'.format(ia), color='white', fontsize=8)"
   ]
  },
  {
   "cell_type": "code",
   "execution_count": 58,
   "metadata": {},
   "outputs": [],
   "source": [
    "grid_wts_cube, grid_to_antenna_mapping, gridhist = gen_ant_grid_wts_cube(ant_ugrid.size, raveled_ind_lol, ant_grid_wts_lol)"
   ]
  },
  {
   "cell_type": "code",
   "execution_count": 59,
   "metadata": {},
   "outputs": [
    {
     "name": "stdout",
     "output_type": "stream",
     "text": [
      "(2, 2, 4)\n"
     ]
    }
   ],
   "source": [
    "print(ant_grid_wts_lol[0][0].shape)"
   ]
  },
  {
   "cell_type": "code",
   "execution_count": 61,
   "metadata": {},
   "outputs": [
    {
     "name": "stdout",
     "output_type": "stream",
     "text": [
      "NPZ file saved at: /mnt/data/users/thy009/projects/multi-scale-imaging-architectures/data/epic-test-data-100000-runs-64x64-grid-256-ants-1-chans.npz\n"
     ]
    }
   ],
   "source": [
    "NP.savez_compressed(datadir+'epic-test-data-{0:0d}-runs-{1:0d}x{2:0d}-grid-{3:0d}-ants-{4:0d}-chans.npz'.format(nruns, ant_ugrid.shape[0], ant_ugrid.shape[1], nants, nchan), ant_Etafp=ant_E_dynspec['Ef'].to('Jy(1/2)').value, antpos=NP.hstack([antx.reshape(-1,1),anty.reshape(-1,1),antz.reshape(-1,1)]), freqs=freqs.to('MHz').value, xcorners=xcornerNN, ycorners=ycornerNN, xsizes=xsizeNN, ysizes=ysizeNN)\n",
    "print('NPZ file saved at: '+datadir+'epic-test-data-{0:0d}-runs-{1:0d}x{2:0d}-grid-{3:0d}-ants-{4:0d}-chans.npz'.format(nruns, ant_ugrid.shape[0], ant_ugrid.shape[1], nants, nchan))"
   ]
  },
  {
   "cell_type": "code",
   "execution_count": 62,
   "metadata": {},
   "outputs": [],
   "source": [
    "with open(datadir+'epic-test-ant-wts-{0:0d}x{1:0d}-grid-{2:0d}-ants-{3:0d}-chans.pkl'.format(ant_ugrid.shape[0], ant_ugrid.shape[1], nants, nchan), 'wb') as fobj:\n",
    "    pickle.dump(ant_grid_wts_lol, fobj)"
   ]
  },
  {
   "cell_type": "code",
   "execution_count": 63,
   "metadata": {},
   "outputs": [
    {
     "name": "stdout",
     "output_type": "stream",
     "text": [
      "0.095367431640625\n"
     ]
    }
   ],
   "source": [
    "npol = 2\n",
    "nri = 2\n",
    "nbytes_per_sample = 1\n",
    "print(nchan*nruns*nants*npol*nri*nbytes_per_sample/2**30) # in GB"
   ]
  },
  {
   "cell_type": "code",
   "execution_count": 29,
   "metadata": {},
   "outputs": [],
   "source": [
    "# distUL = 3.0\n",
    "# xv = NP.arange(12)\n",
    "# yv = NP.arange(16)\n",
    "# xg, yg = NP.meshgrid(xv, yv)\n",
    "# xlocs = NP.array([2.5, 5.2, 8.6])\n",
    "# ylocs = NP.array([3.5, 9.2, 6.9])\n",
    "# xgrel = xg.ravel()[NP.newaxis,...] - xlocs[:,NP.newaxis]\n",
    "# ygrel = yg.ravel()[NP.newaxis,...] - ylocs[:,NP.newaxis]\n",
    "# layered_rectkern = rect2D_kernel(xgrel, ygrel, delX=2, delY=2)\n",
    "# # layered_rectkern = gaussian2D_kernel(xgrel, ygrel, sigma=1)   \n",
    "# layered_rectkern = layered_rectkern.reshape(xlocs.shape+xg.shape) \n",
    "# valgrid = NP.sum(NP.ones(xlocs.shape, dtype=float).reshape(-1,1,1) * layered_rectkern, axis=0)\n",
    "# print(valgrid)"
   ]
  },
  {
   "cell_type": "code",
   "execution_count": 64,
   "metadata": {},
   "outputs": [
    {
     "name": "stdout",
     "output_type": "stream",
     "text": [
      "1.0\n"
     ]
    },
    {
     "data": {
      "text/plain": [
       "[<matplotlib.lines.Line2D at 0x7f42548993a0>]"
      ]
     },
     "execution_count": 64,
     "metadata": {},
     "output_type": "execute_result"
    },
    {
     "data": {
      "image/png": "[encoded data removed]",
      "text/plain": [
       "<Figure size 640x480 with 1 Axes>"
      ]
     },
     "metadata": {},
     "output_type": "display_data"
    }
   ],
   "source": [
    "#print((nchan,nruns,nants))\n",
    "# print(ant_E_dynspec['Ef'].shape)\n",
    "# print(ant_E_dynspec['Ef'][0:10,0,0,0])\n",
    "# print(NP.max(ant_E_dynspec['Ef'][:,0,0,0]))\n",
    "#print(ant_grid_wts_lol[0][0])\n",
    "\n",
    "p_used = NP.zeros((ant_ugrid.shape[0],ant_ugrid.shape[1],nchan))\n",
    "for c in range(nchan):\n",
    "    for p in range(nants):\n",
    "        if p_used[xcornerNN[p,c],ycornerNN[p,c],c]:\n",
    "            print(f\"duplicate : channel {c} p = {p}, x,y = {xcornerNN[p,c]},{ycornerNN[p,c]}\")\n",
    "        p_used[xcornerNN[p,c],ycornerNN[p,c],c] = p_used[xcornerNN[p,c],ycornerNN[p,c],c] + 1\n",
    "print(NP.max(p_used))\n",
    "fig = PLT.figure()\n",
    "ax = fig.add_subplot(111)\n",
    "ax.plot(xcornerNN[:,0],ycornerNN[:,0],'r*')\n"
   ]
  },
  {
   "cell_type": "code",
   "execution_count": 65,
   "metadata": {},
   "outputs": [
    {
     "name": "stdout",
     "output_type": "stream",
     "text": [
      "[[35]\n",
      " [36]\n",
      " [35]\n",
      " [35]\n",
      " [35]\n",
      " [37]\n",
      " [36]\n",
      " [35]\n",
      " [35]\n",
      " [33]]\n"
     ]
    }
   ],
   "source": [
    "print(xcornerNN[100:110,:])"
   ]
  },
  {
   "cell_type": "code",
   "execution_count": 67,
   "metadata": {},
   "outputs": [
    {
     "name": "stdout",
     "output_type": "stream",
     "text": [
      "y destinations:\n",
      "[[11. 19. 21. 31. 36. 40. 47. 50.]\n",
      " [ 9. 14. 24. 26. 33. 43. 47. 52.]\n",
      " [12. 17. 22. 28. 36. 38. 44. 50.]\n",
      " [10. 19. 24. 30. 33. 42. 47. 52.]\n",
      " [ 8. 17. 22. 28. 32. 39. 45. 50.]\n",
      " [ 6. 14. 20. 26. 36. 38. 48. 56.]\n",
      " [12. 16. 25. 30. 33. 41. 44. 54.]\n",
      " [10. 13. 22. 28. 36. 43. 48. 51.]\n",
      " [12. 16. 24. 28. 33. 38. 46. 57.]\n",
      " [ 8. 19. 23. 30. 36. 41. 44. 54.]\n",
      " [ 4. 15. 23. 28. 35. 40. 49. 51.]\n",
      " [10. 16. 19. 26. 32. 42. 46. 60.]\n",
      " [ 6. 16. 22. 30. 35. 40. 45. 56.]\n",
      " [ 8. 13. 19. 29. 37. 40. 49. 53.]\n",
      " [ 3. 16. 23. 26. 33. 42. 47. 52.]\n",
      " [12. 15. 21. 29. 36. 41. 45. 57.]\n",
      " [ 9. 18. 24. 27. 34. 38. 49. 54.]\n",
      " [ 5. 13. 22. 30. 36. 42. 47. 53.]\n",
      " [ 2. 17. 22. 27. 34. 39. 44. 50.]\n",
      " [ 8. 18. 19. 28. 31. 41. 48. 59.]\n",
      " [ 5. 15. 24. 29. 33. 37. 45. 56.]\n",
      " [ 3. 12. 20. 27. 33. 42. 45. 52.]\n",
      " [ 8. 18. 22. 27. 36. 39. 49. 59.]\n",
      " [12. 13. 22. 30. 33. 39. 47. 54.]\n",
      " [ 4. 15. 24. 30. 34. 42. 43. 55.]\n",
      " [ 9. 18. 25. 28. 33. 40. 46. 51.]\n",
      " [ 6. 13. 21. 28. 31. 37. 43. 57.]\n",
      " [10. 16. 19. 30. 35. 39. 49. 51.]\n",
      " [ 7. 18. 24. 28. 36. 42. 46. 54.]\n",
      " [ 9. 15. 19. 25. 32. 39. 45. 51.]\n",
      " [ 7. 13. 23. 25. 33. 41. 49. 53.]\n",
      " [11. 16. 21. 29. 36. 39. 45. 51.]]\n"
     ]
    },
    {
     "data": {
      "image/png": "[encoded data removed]",
      "text/plain": [
       "<Figure size 640x480 with 1 Axes>"
      ]
     },
     "metadata": {},
     "output_type": "display_data"
    },
    {
     "data": {
      "image/png": "[encoded data removed]",
      "text/plain": [
       "<Figure size 640x480 with 1 Axes>"
      ]
     },
     "metadata": {},
     "output_type": "display_data"
    }
   ],
   "source": [
    "# Sort antennas according to the coordinates, so that we have groups of 8 antennas that we can load in parallel\n",
    "# First divide the antennas into 8 groups by y coordinate.\n",
    "nblocks_ants = 8\n",
    "nants_per_block = nants // nblocks_ants\n",
    "c = 0\n",
    "c_plot = 0\n",
    "# c_plot = 7\n",
    "# Sort by y, then by x coordinate\n",
    "sorted_y_indexes = NP.argsort(ycornerNN[:,c] * 1000 + xcornerNN[:,c])\n",
    "fig = PLT.figure()\n",
    "ax = fig.add_subplot(111)\n",
    "clist = 'rgbcmkrgbcmkrgbcmkrgbcmkrgbcmkrgbcmkrgbcmkrgbcmkrgbcmkrgbcmkrgbcmkrgbcmk'\n",
    "station_by_block = NP.zeros((nblocks_ants, nants_per_block))\n",
    "station_by_block_x = NP.zeros((nblocks_ants, nants_per_block))\n",
    "station_by_block_sorted = []\n",
    "for block in range(nblocks_ants):\n",
    "    for ant in range(nants_per_block):\n",
    "        # station number in each of the 8 blocks\n",
    "        station_by_block[block,ant] = sorted_y_indexes[block*nants_per_block + ant]\n",
    "        # x coordinate of the station in each block\n",
    "        station_by_block_x[block,ant] = xcornerNN[sorted_y_indexes[block*nants_per_block + ant],c]\n",
    "        ax.plot(xcornerNN[sorted_y_indexes[block*nants_per_block+ant],c_plot],ycornerNN[sorted_y_indexes[block*nants_per_block+ant],c_plot],clist[block] + '*')\n",
    "    # sort station_by_block according to station_by_block_x, \n",
    "    # so that we have stations in the order they will be used in each block\n",
    "    x_sort_order = NP.argsort(station_by_block_x[block,:])\n",
    "    #print(x_sort_order)\n",
    "    #print(station_by_block[block,:])\n",
    "    #print(station_by_block[block,x_sort_order])\n",
    "    station_by_block_sorted.append(list(station_by_block[block,x_sort_order]))\n",
    "\n",
    "# Create an array with dimensions (32 groups)x(8 stations per group) which contains the station numbers.\n",
    "nants_per_group = nblocks_ants\n",
    "nwords_per_frame = nants // nants_per_group\n",
    "group_stations = NP.zeros((nwords_per_frame,nants_per_group),dtype = NP.int32)\n",
    "for group in range(nwords_per_frame):\n",
    "    # Make 32 groups, with 8 antennas in each group. \n",
    "    # The 8 antennas have one drawn from each block of 32 antennas\n",
    "    group_stations[group,0] = int(station_by_block_sorted[0][0])\n",
    "    station_by_block_sorted[0].remove(group_stations[group,0])\n",
    "    for block in range(1,nants_per_group):\n",
    "        # Make sure the station doesn't have the same y coordinate as the station selected in the previous block\n",
    "        group_i = 0\n",
    "        for c in range(nchan):\n",
    "            while (ycornerNN[group_stations[group,block-1],c] == ycornerNN[int(station_by_block_sorted[block][group_i]),c]):\n",
    "                group_i += 1\n",
    "        group_stations[group,block] = int(station_by_block_sorted[block][group_i])\n",
    "        station_by_block_sorted[block].remove(group_stations[group,block])\n",
    "\n",
    "# Check : every station was assigned to a group \n",
    "for s_check in range(nants):\n",
    "    s_any = (group_stations == s_check)\n",
    "    if (not s_any.any()):\n",
    "        print(f\"missing station {s_check}\")\n",
    "        print(group_stations)\n",
    "\n",
    "# Check there are no duplicate y coordinates within a group.\n",
    "fig = PLT.figure()\n",
    "ax = fig.add_subplot(111)\n",
    "for c in range(nchan):\n",
    "    for group in range(nwords_per_frame):\n",
    "        if len(NP.unique(ycornerNN[group_stations[group,:],c])) < nants_per_group:\n",
    "            print(f'Channel {c}, Same y coordinate for group {group}')\n",
    "            print(ycornerNN[group_stations[group,:],c])\n",
    "\n",
    "# For each group find which y-coordinate FIFO the data needs to go to\n",
    "y_dest = NP.zeros((nwords_per_frame,nblocks_ants,nchan))  # (32 groups) x (8 blocks) x (10 frequency channels)\n",
    "for c in range(nchan):\n",
    "    for group in range(nwords_per_frame):\n",
    "        y_dest[group,:,c] = ycornerNN[group_stations[group,:],c]\n",
    "print(\"y destinations:\")\n",
    "print(y_dest[:,:,c_plot])\n",
    "\n",
    "# For each FIFO, which block does the data come from\n",
    "# For each y-coordinate destination, find the group the data comes from:\n",
    "#  (32 FIFOs) x (32 groups of stations) x (10 channels)\n",
    "# Each entry is either -1 = Unused; or 0-7 = select block in the data.\n",
    "FIFO_select = NP.zeros((32,32,nchan))\n",
    "for c in range(nchan):\n",
    "    for group in range(32):\n",
    "        for fifo in range(32):\n",
    "            v = NP.argwhere(y_dest[group,:,c] == fifo)\n",
    "            #print(\"asdf\")\n",
    "            #print(v)\n",
    "            #print(len(v))\n",
    "            if (len(v) == 0):\n",
    "                FIFO_select[fifo,group,c] = -1\n",
    "            else:\n",
    "                FIFO_select[fifo,group,c] = v[0][0]\n",
    "                #print(f'fifo group c = {fifo}, {group}, {c}, v0 = {v[0][0]}')\n",
    "#print('FIFO select : ')\n",
    "#print(FIFO_select[10,:,:])\n",
    "\n",
    "\n",
    "for group in range(nwords_per_frame):\n",
    "    for block in range(nblocks_ants):\n",
    "        ax.plot(xcornerNN[group_stations[group,block],c_plot],ycornerNN[group_stations[group,block],c_plot],clist[group] + '*')\n",
    "\n",
    "        "
   ]
  },
  {
   "cell_type": "code",
   "execution_count": 68,
   "metadata": {},
   "outputs": [
    {
     "name": "stdout",
     "output_type": "stream",
     "text": [
      "1\n",
      "256\n",
      "<class 'numpy.ndarray'>\n",
      "(2, 2, 4)\n",
      "[[235 237 255 253 251 247 249 224]\n",
      " [209 234 239 254 252 250 225 223]\n",
      " [210 236 238 241 245 246 226 222]\n",
      " [208 232 231 243 244 248 221 192]\n",
      " [178 233 214 242 229 227 195 193]\n",
      " [177 211 213 240 228 219 194 191]\n",
      " [179 212 215 230 217 220 196 190]\n",
      " [174 207 204 216 218 197 189 163]\n",
      " [173 206 203 202 201 199 188 162]\n",
      " [175 205 182 184 200 198 166 159]\n",
      " [176 180 171 183 185 186 164 157]\n",
      " [143 181 147 170 168 187 165 161]\n",
      " [141 172 148 169 167 153 155 160]\n",
      " [142 144 146 150 152 154 156 158]\n",
      " [140 145 137 149 151 134 132 126]\n",
      " [113 139 138 136 135 122 133 129]\n",
      " [112 115 117 118 119 121 131 130]\n",
      " [110 114 116  99 120  96 124 127]\n",
      " [109 104 102 100  98  97 123 125]\n",
      " [111  77 103  80  81  84  94 128]\n",
      " [107  76 101  64  82  83  95  92]\n",
      " [108  75  78  65  63  85  86  93]\n",
      " [106  67  79  47  62  60  87  91]\n",
      " [105  69  66  48  49  61  58  89]\n",
      " [ 72  68  46  34  32  51  59  90]\n",
      " [ 74  44  36  35  33  50  53  88]\n",
      " [ 73  42  37  17  18  31  52  57]\n",
      " [ 70  43  15   8  20  30  54  55]\n",
      " [ 71  45  16   9  21  29  28  56]\n",
      " [ 41  38  12  10  19  22  23  27]\n",
      " [ 40  13  11   1   3   6  24  26]\n",
      " [ 39  14   0   2   4   7   5  25]]\n",
      "Order for the station data in memory : \n",
      "[235 237 255 253 251 247 249 224 209 234 239 254 252 250 225 223 210 236\n",
      " 238 241 245 246 226 222 208 232 231 243 244 248 221 192 178 233 214 242\n",
      " 229 227 195 193 177 211 213 240 228 219 194 191 179 212 215 230 217 220\n",
      " 196 190 174 207 204 216 218 197 189 163 173 206 203 202 201 199 188 162\n",
      " 175 205 182 184 200 198 166 159 176 180 171 183 185 186 164 157 143 181\n",
      " 147 170 168 187 165 161 141 172 148 169 167 153 155 160 142 144 146 150\n",
      " 152 154 156 158 140 145 137 149 151 134 132 126 113 139 138 136 135 122\n",
      " 133 129 112 115 117 118 119 121 131 130 110 114 116  99 120  96 124 127\n",
      " 109 104 102 100  98  97 123 125 111  77 103  80  81  84  94 128 107  76\n",
      " 101  64  82  83  95  92 108  75  78  65  63  85  86  93 106  67  79  47\n",
      "  62  60  87  91 105  69  66  48  49  61  58  89  72  68  46  34  32  51\n",
      "  59  90  74  44  36  35  33  50  53  88  73  42  37  17  18  31  52  57\n",
      "  70  43  15   8  20  30  54  55  71  45  16   9  21  29  28  56  41  38\n",
      "  12  10  19  22  23  27  40  13  11   1   3   6  24  26  39  14   0   2\n",
      "   4   7   5  25]\n"
     ]
    }
   ],
   "source": [
    "# Save the data in a format that can be loaded in firmware \n",
    "#  (1) The voltage data, organised according to \"group_stations\", then by time sample, then frequency channel\n",
    "#  (2) The fifo selection \"FIFO_select\", as ROM contents for the firmware\n",
    "#     - 2 bits per FIFO, 32 FIFOs = 64 bits per word\n",
    "#     - 32 words per frequency channel (one for each group of stations loaded),\n",
    "#  (3) Jones matrices, a ROM which holds \"ant_grid_wts_lol\"\n",
    "\n",
    "\n",
    "print(len(ant_grid_wts_lol))  # list of 10 frequency channels\n",
    "print(len(ant_grid_wts_lol[0])) # list of 256 antennas\n",
    "print(type(ant_grid_wts_lol[0][0])) # 2x2x1 jones matrix for each antenna and frequency channel\n",
    "print(ant_grid_wts_lol[0][0].shape)\n",
    "print(group_stations)\n",
    "print(\"Order for the station data in memory : \")\n",
    "print(group_stations.ravel())\n",
    "# Need to save the voltage data for in the order given by NP.ravel(group_stations)\n",
    "# A single sample for a single antenna will be 4 bytes : \n",
    "#   one byte per value : (pol0 real, pol0 imag, pol1 real, pol1 imaginary) \n",
    "# A full set of voltage data will be 1 kByte = 256 antennas * (4 bytes)\n",
    "# The FPGA implementation will integrate all 1 kByte blocks into a single image.\n",
    "# ...Add code here...\n"
   ]
  },
  {
   "cell_type": "markdown",
   "metadata": {},
   "source": [
    "## Determine the array element grouping into blocks and words for every channel"
   ]
  },
  {
   "cell_type": "code",
   "execution_count": 69,
   "metadata": {},
   "outputs": [
    {
     "name": "stdout",
     "output_type": "stream",
     "text": [
      "Array element ordering saved at: /mnt/data/users/thy009/projects/multi-scale-imaging-architectures/data/array_element_ordering_FPGA-64x64-grid-256-ants-1-chans.npy\n"
     ]
    }
   ],
   "source": [
    "group_elements_allchans = array_element_grouping(xcornerNN, ycornerNN, nblocks=8)\n",
    "# print(group_elements_allchans.shape)\n",
    "\n",
    "# print(NP.abs(group_stations_allchans - group_stations).max())\n",
    "\n",
    "NP.save(datadir+'array_element_ordering_FPGA-{0:0d}x{1:0d}-grid-{2:0d}-ants-{3:0d}-chans.npy'.format(ant_ugrid.shape[0], ant_ugrid.shape[1], nants, nchan), group_elements_allchans)\n",
    "print('Array element ordering saved at: '+datadir+'array_element_ordering_FPGA-{0:0d}x{1:0d}-grid-{2:0d}-ants-{3:0d}-chans.npy'.format(ant_ugrid.shape[0], ant_ugrid.shape[1], nants, nchan))"
   ]
  },
  {
   "cell_type": "markdown",
   "metadata": {},
   "source": [
    "## Populate the FIFOs"
   ]
  },
  {
   "cell_type": "code",
   "execution_count": 71,
   "metadata": {},
   "outputs": [
    {
     "name": "stdout",
     "output_type": "stream",
     "text": [
      "FPGA FIFO population saved at: /mnt/data/users/thy009/projects/multi-scale-imaging-architectures/data/FPGA-FIFO-population-64x64-grid-256-ants-1-chans.npy\n"
     ]
    }
   ],
   "source": [
    "populated_FIFOs_allchans = load_FIFO(group_elements_allchans, unraveled_ind_lol, xcornerNN, ycornerNN, nFIFO=ant_ugrid.shape[0])\n",
    "NP.save(datadir+'FPGA-FIFO-population-{0:0d}x{1:0d}-grid-{2:0d}-ants-{3:0d}-chans.npy'.format(ant_ugrid.shape[0], ant_ugrid.shape[1], nants, nchan), populated_FIFOs_allchans)\n",
    "print('FPGA FIFO population saved at: '+datadir+'FPGA-FIFO-population-{0:0d}x{1:0d}-grid-{2:0d}-ants-{3:0d}-chans.npy'.format(ant_ugrid.shape[0], ant_ugrid.shape[1], nants, nchan))"
   ]
  },
  {
   "cell_type": "code",
   "execution_count": 72,
   "metadata": {},
   "outputs": [
    {
     "name": "stdout",
     "output_type": "stream",
     "text": [
      "(array([0, 0, 0]), array([19, 23, 24]), array([19, 13, 43]))\n",
      "[[103  77]\n",
      " [105  69]\n",
      " [ 59  51]]\n"
     ]
    }
   ],
   "source": [
    "ind_FIFO_conflicts = NP.where(populated_FIFOs_allchans[...,1] > -1)\n",
    "print(ind_FIFO_conflicts)\n",
    "print(populated_FIFOs_allchans[ind_FIFO_conflicts])"
   ]
  },
  {
   "cell_type": "code",
   "execution_count": 73,
   "metadata": {},
   "outputs": [
    {
     "name": "stdout",
     "output_type": "stream",
     "text": [
      "(100000, 256, 1, 2)\n",
      "(1, 100000, 256, 2)\n"
     ]
    }
   ],
   "source": [
    "ant_data_tafp = ant_E_dynspec['Ef'][:,group_elements_allchans[0].ravel(),:,:].to('Jy(1/2)').value # reordered based on station grouping index\n",
    "ant_data_ftap = NP.moveaxis(ant_data_tafp, -2, 0) # slowest varying -> frequency -> time -> antennas -> pol -> Fastest varying\n",
    "print(ant_data_tafp.shape)\n",
    "print(ant_data_ftap.shape)"
   ]
  },
  {
   "cell_type": "code",
   "execution_count": 75,
   "metadata": {},
   "outputs": [
    {
     "name": "stdout",
     "output_type": "stream",
     "text": [
      "-13.274726765639475 13.64362667013847 13.64362667013847\n"
     ]
    }
   ],
   "source": [
    "realimag = NP.concatenate((ant_data_ftap.real[...,NP.newaxis],ant_data_ftap.imag[...,NP.newaxis]), axis=-1)\n",
    "maxabsdata = NP.abs(realimag).max()\n",
    "print(realimag.min(), realimag.max(), maxabsdata)"
   ]
  },
  {
   "cell_type": "code",
   "execution_count": 29,
   "metadata": {},
   "outputs": [],
   "source": [
    "# realimag_scaled = mathops.minmax_scaler(realimag-eps, low=-nlevs//2, high=nlevs//2-eps)\n",
    "# print(realimag_scaled.min(), realimag_scaled.max())\n",
    "# print(realimag_scaled[0,0,0,...])\n",
    "# realimag_scaled = NP.round(realimag_scaled).astype(NP.int8)\n",
    "# print(realimag_scaled[0,0,0,...])\n",
    "# print(realimag_scaled.min(), realimag_scaled.max())"
   ]
  },
  {
   "cell_type": "code",
   "execution_count": 76,
   "metadata": {},
   "outputs": [
    {
     "name": "stdout",
     "output_type": "stream",
     "text": [
      "[-13.64362667 -13.53661783 -13.429609   -13.32260016 -13.21559132\n",
      " -13.10858249 -13.00157365 -12.89456481 -12.78755598 -12.68054714\n",
      " -12.5735383  -12.46652947 -12.35952063 -12.25251179 -12.14550296\n",
      " -12.03849412 -11.93148528 -11.82447645 -11.71746761 -11.61045877\n",
      " -11.50344994 -11.3964411  -11.28943226 -11.18242343 -11.07541459\n",
      " -10.96840575 -10.86139692 -10.75438808 -10.64737924 -10.54037041\n",
      " -10.43336157 -10.32635273 -10.2193439  -10.11233506 -10.00532622\n",
      "  -9.89831739  -9.79130855  -9.68429971  -9.57729088  -9.47028204\n",
      "  -9.3632732   -9.25626437  -9.14925553  -9.04224669  -8.93523786\n",
      "  -8.82822902  -8.72122018  -8.61421135  -8.50720251  -8.40019367\n",
      "  -8.29318484  -8.186176    -8.07916716  -7.97215833  -7.86514949\n",
      "  -7.75814065  -7.65113182  -7.54412298  -7.43711414  -7.33010531\n",
      "  -7.22309647  -7.11608763  -7.0090788   -6.90206996  -6.79506112\n",
      "  -6.68805229  -6.58104345  -6.47403461  -6.36702578  -6.26001694\n",
      "  -6.1530081   -6.04599927  -5.93899043  -5.83198159  -5.72497276\n",
      "  -5.61796392  -5.51095508  -5.40394625  -5.29693741  -5.18992857\n",
      "  -5.08291974  -4.9759109   -4.86890206  -4.76189323  -4.65488439\n",
      "  -4.54787555  -4.44086672  -4.33385788  -4.22684904  -4.11984021\n",
      "  -4.01283137  -3.90582253  -3.7988137   -3.69180486  -3.58479602\n",
      "  -3.47778719  -3.37077835  -3.26376951  -3.15676068  -3.04975184\n",
      "  -2.942743    -2.83573417  -2.72872533  -2.62171649  -2.51470766\n",
      "  -2.40769882  -2.30068998  -2.19368115  -2.08667231  -1.97966347\n",
      "  -1.87265464  -1.7656458   -1.65863696  -1.55162813  -1.44461929\n",
      "  -1.33761045  -1.23060162  -1.12359278  -1.01658394  -0.90957511\n",
      "  -0.80256627  -0.69555743  -0.5885486   -0.48153976  -0.37453092\n",
      "  -0.26752209  -0.16051325  -0.05350441   0.05350442   0.16051326\n",
      "   0.2675221    0.37453093   0.48153977   0.58854861   0.69555744\n",
      "   0.80256628   0.90957512   1.01658395   1.12359279   1.23060163\n",
      "   1.33761046   1.4446193    1.55162814   1.65863697   1.76564581\n",
      "   1.87265465   1.97966348   2.08667232   2.19368116   2.30068999\n",
      "   2.40769883   2.51470767   2.6217165    2.72872534   2.83573418\n",
      "   2.94274301   3.04975185   3.15676069   3.26376952   3.37077836\n",
      "   3.4777872    3.58479603   3.69180487   3.79881371   3.90582254\n",
      "   4.01283138   4.11984022   4.22684905   4.33385789   4.44086673\n",
      "   4.54787556   4.6548844    4.76189324   4.86890207   4.97591091\n",
      "   5.08291975   5.18992858   5.29693742   5.40394626   5.51095509\n",
      "   5.61796393   5.72497277   5.8319816    5.93899044   6.04599928\n",
      "   6.15300811   6.26001695   6.36702579   6.47403462   6.58104346\n",
      "   6.6880523    6.79506113   6.90206997   7.00907881   7.11608764\n",
      "   7.22309648   7.33010532   7.43711415   7.54412299   7.65113183\n",
      "   7.75814066   7.8651495    7.97215834   8.07916717   8.18617601\n",
      "   8.29318485   8.40019368   8.50720252   8.61421136   8.72122019\n",
      "   8.82822903   8.93523787   9.0422467    9.14925554   9.25626438\n",
      "   9.36327321   9.47028205   9.57729089   9.68429972   9.79130856\n",
      "   9.8983174   10.00532623  10.11233507  10.21934391  10.32635274\n",
      "  10.43336158  10.54037042  10.64737925  10.75438809  10.86139693\n",
      "  10.96840576  11.0754146   11.18242344  11.28943227  11.39644111\n",
      "  11.50344995  11.61045878  11.71746762  11.82447646  11.93148529\n",
      "  12.03849413  12.14550297  12.2525118   12.35952064  12.46652948\n",
      "  12.57353831  12.68054715  12.78755599  12.89456482  13.00157366\n",
      "  13.1085825   13.21559133  13.32260017  13.42960901  13.53661784\n",
      "  13.64362668]\n",
      "(256,)\n",
      "-12.664372984452175 12.959474507367403\n",
      "-13.274726765639475 13.64362667013847\n",
      "-13.274726765639475 13.64362667013847\n",
      "-118 121\n",
      "-124 127\n",
      "(1, 100000, 256, 2, 2)\n",
      "int8\n",
      "102400000\n"
     ]
    }
   ],
   "source": [
    "eps = 1e-8 # A small offset value (just to move the bin boundary away from max or min)\n",
    "nbits = 8\n",
    "nlevs = 2**nbits\n",
    "bins = NP.linspace(-maxabsdata, maxabsdata+eps, num=nlevs, endpoint=True)\n",
    "realimagbinned = NP.searchsorted(bins, realimag, side='right') - nlevs//2\n",
    "realimagbinned = realimagbinned.astype(NP.int8)\n",
    "\n",
    "# realbinned = NP.searchsorted(bins, ant_data_ftap.real, side='right') - nlevs//2\n",
    "# imagbinned = NP.searchsorted(bins, ant_data_ftap.imag, side='right') - nlevs//2\n",
    "# realbinned = realbinned.astype(NP.int8)\n",
    "# imagbinned = imagbinned.astype(NP.int8)\n",
    "\n",
    "print(bins)\n",
    "print(bins.shape)\n",
    "print(ant_data_ftap.real.min(), ant_data_ftap.real.max())\n",
    "print(ant_data_ftap.imag.min(), ant_data_ftap.imag.max())\n",
    "print(realimag.min(), realimag.max())\n",
    "print(realimagbinned[...,0].min(), realimagbinned[...,0].max())\n",
    "print(realimagbinned[...,1].min(), realimagbinned[...,1].max())\n",
    "# print(imagbinned.min(), imagbinned.max())\n",
    "print(realimagbinned.shape)\n",
    "print(realimagbinned.dtype)\n",
    "print(realimagbinned.nbytes)"
   ]
  },
  {
   "cell_type": "code",
   "execution_count": 77,
   "metadata": {},
   "outputs": [
    {
     "name": "stdout",
     "output_type": "stream",
     "text": [
      "Binary data saved at: /mnt/data/users/thy009/projects/multi-scale-imaging-architectures/data/epic-test-data-100000-runs-64x64-grid-256-ants-1-chans.dat\n"
     ]
    }
   ],
   "source": [
    "realimagbinned.tofile(datadir+'epic-test-data-{0:0d}-runs-{1:0d}x{2:0d}-grid-{3:0d}-ants-{4:0d}-chans.dat'.format(nruns, ant_ugrid.shape[0], ant_ugrid.shape[1], nants, nchan))\n",
    "print('Binary data saved at: '+datadir+'epic-test-data-{0:0d}-runs-{1:0d}x{2:0d}-grid-{3:0d}-ants-{4:0d}-chans.dat'.format(nruns, ant_ugrid.shape[0], ant_ugrid.shape[1], nants, nchan))\n",
    "NP.save(datadir+'aavs_station_element_fpga_ordering_32x8.npy', group_stations)"
   ]
  },
  {
   "cell_type": "code",
   "execution_count": 52,
   "metadata": {},
   "outputs": [
    {
     "name": "stdout",
     "output_type": "stream",
     "text": [
      "int8\n"
     ]
    }
   ],
   "source": [
    "# Jones Matrices:\n",
    "#  We need initialisation data for 64 block rams.\n",
    "#  Each block RAM contains all the Jones data for a single row of the grid.\n",
    "#  Each block ram contains 64 words, where each word is a complete Jones matrix, for one column in the grid.\n",
    "#  One Jones matrix = 4 complex values = 8 bytes (1 byte real + 1 byte imaginary per value)\n",
    "#  If there is no contribution from any of the antennas at a particular grid point, then the\n",
    "#  corresponding Jones matrix should be 0.\n",
    "#  Format:\n",
    "#   In a real system this data would be written by control software, and updated as the array is calibrated.\n",
    "#   For a demo, just build the values into the firmware image.\n",
    "#   To do this, put the Jones data in 64 text files, where each file is 64 lines, with a Jones matrix on each line.\n",
    "#   Jones data for grid point (x,y) is at line \"y\" in file \"x\"\n",
    "#   Each line in a file is written as a string of hexadecimal digits, e.g.\n",
    "#   0123456789ABCDEF\n",
    "#   which represents a Jones Matrix : \n",
    "#    [(0xEF + 0xCD*i) (0xAB + 0x89 * i)]  \n",
    "#    [(0x67 + 0x45*i) (0x23 + 0x12 * i)]\n",
    "#   using 8-bit signed values (so 0xFF = -1)\n",
    "#  ...Add code here...\n"
   ]
  },
  {
   "cell_type": "code",
   "execution_count": 20,
   "metadata": {},
   "outputs": [],
   "source": [
    "# fig = PLT.figure(figsize=(4,4))\n",
    "# ax = fig.add_subplot(111)\n",
    "# ax.imshow(valgrid)"
   ]
  },
  {
   "cell_type": "code",
   "execution_count": 21,
   "metadata": {},
   "outputs": [],
   "source": [
    "# indNN_L1_raveled = nearest_nghbrs(NP.column_stack([xlocs, ylocs]), xg, yg, distUL, dist_norm=1)\n",
    "# indNN_L2_raveled = nearest_nghbrs(NP.column_stack([xlocs, ylocs]), xg, yg, distUL, dist_norm=2)\n",
    "# print(indNN_L2_raveled)"
   ]
  },
  {
   "cell_type": "code",
   "execution_count": 22,
   "metadata": {},
   "outputs": [],
   "source": [
    "# indNN_L1 = [NP.unravel_index(indNN_L1_raveled[i], xg.shape) for i in range(xlocs.size)]\n",
    "# indNN_L2 = [NP.unravel_index(indNN_L2_raveled[i], xg.shape) for i in range(xlocs.size)]\n"
   ]
  },
  {
   "cell_type": "code",
   "execution_count": 23,
   "metadata": {},
   "outputs": [],
   "source": [
    "# print(indNN_L1[0])\n",
    "# print('-----------')\n",
    "# print(indNN_L2)"
   ]
  },
  {
   "cell_type": "code",
   "execution_count": 24,
   "metadata": {},
   "outputs": [],
   "source": [
    "# layered_L1_footprint = NP.zeros((xlocs.size,)+xg.shape, dtype=int)\n",
    "# layered_L2_footprint = NP.zeros((xlocs.size,)+xg.shape, dtype=int)\n",
    "# for i in range(xlocs.size):\n",
    "#     fp1 = NP.zeros(xg.shape, dtype=int)\n",
    "#     fp1[indNN_L1[i]] = 1\n",
    "#     fp2 = NP.zeros(xg.shape, dtype=int)\n",
    "#     fp2[indNN_L2[i]] = 1\n",
    "#     layered_L1_footprint[i] = NP.copy(fp1)\n",
    "#     layered_L2_footprint[i] = NP.copy(fp2)\n",
    "# net_L1_footprint = NP.sum(layered_L1_footprint, axis=0)\n",
    "# net_L2_footprint = NP.sum(layered_L2_footprint, axis=0)"
   ]
  },
  {
   "cell_type": "code",
   "execution_count": 25,
   "metadata": {},
   "outputs": [],
   "source": [
    "# fig = PLT.figure(figsize=(4,4))\n",
    "# ax = fig.add_subplot(111)\n",
    "# ax.imshow(net_L2_footprint)"
   ]
  },
  {
   "cell_type": "code",
   "execution_count": 26,
   "metadata": {},
   "outputs": [],
   "source": [
    "# print(indNN_L2_raveled)\n",
    "# indNN_L2_raveled_new = LKP.find_NN(NP.column_stack([xlocs, ylocs]), NP.column_stack([xg.ravel(), yg.ravel()]), distance_ULIM=distUL)\n",
    "# # print(indNN_L2_raveled_new[0])\n",
    "# indNN_L2_new = [NP.unravel_index(indNN_L2_raveled_new[0][i], xg.shape) for i in range(xlocs.size)]"
   ]
  }
 ],
 "metadata": {
  "kernelspec": {
   "display_name": "Python 3",
   "language": "python",
   "name": "python3"
  },
  "language_info": {
   "codemirror_mode": {
    "name": "ipython",
    "version": 3
   },
   "file_extension": ".py",
   "mimetype": "text/x-python",
   "name": "python",
   "nbconvert_exporter": "python",
   "pygments_lexer": "ipython3",
   "version": "3.12.0"
  }
 },
 "nbformat": 4,
 "nbformat_minor": 2
}
